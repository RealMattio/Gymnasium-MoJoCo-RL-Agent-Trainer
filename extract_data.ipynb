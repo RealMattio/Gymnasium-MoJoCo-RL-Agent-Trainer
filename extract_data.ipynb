{
 "cells": [
  {
   "cell_type": "code",
   "execution_count": 1,
   "metadata": {},
   "outputs": [],
   "source": [
    "import pandas as pd\n",
    "\n",
    "# Percorsi dei file Excel\n",
    "file = \"Dataset-Project-Deep-Learning-SMRES.xls\"\n",
    "file_scartati = \"Dataset-Project-Deep-Learning-SMRES-Scartati.xlsx\"\n",
    "file_unificato = \"Dataset-Project-Deep-Learning-SMRES-Unificato.xlsx\"\n",
    "\n",
    "# Carico i dati dal foglio 2021\n",
    "df_2021 = pd.read_excel(file, sheet_name=\"2021\")\n",
    "\n",
    "# Carico i dati dal foglio 2022\n",
    "df_2022 = pd.read_excel(file, sheet_name=\"2022\")\n"
   ]
  },
  {
   "cell_type": "code",
   "execution_count": 2,
   "metadata": {},
   "outputs": [
    {
     "name": "stdout",
     "output_type": "stream",
     "text": [
      "Operazione completata con successo!\n"
     ]
    }
   ],
   "source": [
    "\n",
    "# Converto la colonna delle date nel formato datetime\n",
    "df_2021['Data'] = pd.to_datetime(df_2021['Data'])\n",
    "df_2022['Data'] = pd.to_datetime(df_2022['Data'])\n",
    "\n",
    "# Filtr0 i dati del 2022 fino a giugno\n",
    "df_2022_fino_a_giugno = df_2022[df_2022['Data'].dt.month <= 6]\n",
    "\n",
    "# Salvo i dati scartati del 2022 (da luglio in poi)\n",
    "df_2022_scartati = df_2022[df_2022['Data'].dt.month > 6]\n",
    "df_2022_scartati.to_excel(file_scartati, index=False)\n",
    "\n",
    "# Unisco i dati del 2021 e del 2022 (fino a giugno)\n",
    "df_unificato = pd.concat([df_2021, df_2022_fino_a_giugno], ignore_index=True)\n",
    "\n",
    "# Salvo i dati unificati in un file Excel\n",
    "df_unificato.to_excel(file_unificato, index=False)\n",
    "\n",
    "# Daje\n",
    "print(\"Operazione completata con successo!\")"
   ]
  }
 ],
 "metadata": {
  "kernelspec": {
   "display_name": "Python 3",
   "language": "python",
   "name": "python3"
  },
  "language_info": {
   "codemirror_mode": {
    "name": "ipython",
    "version": 3
   },
   "file_extension": ".py",
   "mimetype": "text/x-python",
   "name": "python",
   "nbconvert_exporter": "python",
   "pygments_lexer": "ipython3",
   "version": "3.12.8"
  }
 },
 "nbformat": 4,
 "nbformat_minor": 2
}
